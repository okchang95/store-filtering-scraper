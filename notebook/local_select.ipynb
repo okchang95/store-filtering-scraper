{
 "cells": [
  {
   "cell_type": "markdown",
   "metadata": {},
   "source": [
    "## local select\n",
    "\n",
    "- 크롤링 하다보니 시간이 오래걸림\n",
    "- 컨셉만 구현하기 위해 학원이 속한 동으로 지역을 좁힘"
   ]
  },
  {
   "cell_type": "code",
   "execution_count": 5,
   "metadata": {},
   "outputs": [],
   "source": [
    "import pandas as pd\n",
    "import os"
   ]
  },
  {
   "cell_type": "code",
   "execution_count": 4,
   "metadata": {},
   "outputs": [
    {
     "name": "stdout",
     "output_type": "stream",
     "text": [
      "<class 'pandas.core.frame.DataFrame'>\n",
      "RangeIndex: 21425 entries, 0 to 21424\n",
      "Data columns (total 10 columns):\n",
      " #   Column    Non-Null Count  Dtype  \n",
      "---  ------    --------------  -----  \n",
      " 0   상호명       21425 non-null  object \n",
      " 1   지점명       1250 non-null   object \n",
      " 2   상권업종소분류명  21425 non-null  object \n",
      " 3   표준산업분류명   21425 non-null  object \n",
      " 4   행정동명      21425 non-null  object \n",
      " 5   법정동명      21425 non-null  object \n",
      " 6   지번주소      21425 non-null  object \n",
      " 7   도로명주소     21425 non-null  object \n",
      " 8   경도        21425 non-null  float64\n",
      " 9   위도        21425 non-null  float64\n",
      "dtypes: float64(2), object(8)\n",
      "memory usage: 1.6+ MB\n"
     ]
    }
   ],
   "source": [
    "data = '/Users/okchang/mainbiz/project/p1_final/data/cafe_seoul.csv'\n",
    "df = pd.read_csv(data)\n",
    "df.info()"
   ]
  },
  {
   "cell_type": "code",
   "execution_count": 6,
   "metadata": {},
   "outputs": [
    {
     "name": "stdout",
     "output_type": "stream",
     "text": [
      "<class 'pandas.core.frame.DataFrame'>\n",
      "RangeIndex: 364 entries, 0 to 363\n",
      "Data columns (total 10 columns):\n",
      " #   Column    Non-Null Count  Dtype  \n",
      "---  ------    --------------  -----  \n",
      " 0   상호명       364 non-null    object \n",
      " 1   지점명       14 non-null     object \n",
      " 2   상권업종소분류명  364 non-null    object \n",
      " 3   표준산업분류명   364 non-null    object \n",
      " 4   행정동명      364 non-null    object \n",
      " 5   법정동명      364 non-null    object \n",
      " 6   지번주소      364 non-null    object \n",
      " 7   도로명주소     364 non-null    object \n",
      " 8   경도        364 non-null    float64\n",
      " 9   위도        364 non-null    float64\n",
      "dtypes: float64(2), object(8)\n",
      "memory usage: 28.6+ KB\n"
     ]
    }
   ],
   "source": [
    "# input\n",
    "dong = '종로1.2.3.4가동'\n",
    "\n",
    "# dong_df = df[(df['행정동명'] == dong) | (df['법정동명'] == dong)]\n",
    "dong_df = df[df['행정동명'] == dong]\n",
    "\n",
    "# 인덱스 초기화\n",
    "reidx_df = dong_df.reset_index(drop=True, inplace=False)\n",
    "\n",
    "reidx_df.info() # 21425 -> 364"
   ]
  },
  {
   "cell_type": "code",
   "execution_count": 7,
   "metadata": {},
   "outputs": [],
   "source": [
    "save_path = '/Users/okchang/mainbiz/project/p1_final/data'\n",
    "filename = 'cafe_jongro.csv'\n",
    "reidx_df.to_csv(os.path.join(save_path, filename), index=False, encoding='utf-8-sig')"
   ]
  },
  {
   "cell_type": "code",
   "execution_count": 8,
   "metadata": {},
   "outputs": [
    {
     "name": "stdout",
     "output_type": "stream",
     "text": [
      "<class 'pandas.core.frame.DataFrame'>\n",
      "RangeIndex: 364 entries, 0 to 363\n",
      "Data columns (total 10 columns):\n",
      " #   Column    Non-Null Count  Dtype  \n",
      "---  ------    --------------  -----  \n",
      " 0   상호명       364 non-null    object \n",
      " 1   지점명       14 non-null     object \n",
      " 2   상권업종소분류명  364 non-null    object \n",
      " 3   표준산업분류명   364 non-null    object \n",
      " 4   행정동명      364 non-null    object \n",
      " 5   법정동명      364 non-null    object \n",
      " 6   지번주소      364 non-null    object \n",
      " 7   도로명주소     364 non-null    object \n",
      " 8   경도        364 non-null    float64\n",
      " 9   위도        364 non-null    float64\n",
      "dtypes: float64(2), object(8)\n",
      "memory usage: 28.6+ KB\n"
     ]
    }
   ],
   "source": [
    "saved_df = pd.read_csv(os.path.join(save_path, filename))\n",
    "saved_df.info()"
   ]
  }
 ],
 "metadata": {
  "kernelspec": {
   "display_name": "Python 3 (ipykernel)",
   "language": "python",
   "name": "python3"
  },
  "language_info": {
   "codemirror_mode": {
    "name": "ipython",
    "version": 3
   },
   "file_extension": ".py",
   "mimetype": "text/x-python",
   "name": "python",
   "nbconvert_exporter": "python",
   "pygments_lexer": "ipython3",
   "version": "3.9.16"
  }
 },
 "nbformat": 4,
 "nbformat_minor": 2
}
