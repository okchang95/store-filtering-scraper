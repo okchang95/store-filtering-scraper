{
 "cells": [
  {
   "cell_type": "code",
   "execution_count": 2,
   "metadata": {},
   "outputs": [],
   "source": [
    "import pandas as pd"
   ]
  },
  {
   "cell_type": "markdown",
   "metadata": {},
   "source": [
    "### data load"
   ]
  },
  {
   "cell_type": "code",
   "execution_count": 3,
   "metadata": {},
   "outputs": [
    {
     "name": "stderr",
     "output_type": "stream",
     "text": [
      "/var/folders/hy/0q0xn9_j1m3ddxnt492l8q240000gn/T/ipykernel_35584/3306291301.py:3: DtypeWarning: Columns (2) have mixed types. Specify dtype option on import or set low_memory=False.\n",
      "  df = pd.read_csv(data_path)\n"
     ]
    },
    {
     "name": "stdout",
     "output_type": "stream",
     "text": [
      "<class 'pandas.core.frame.DataFrame'>\n",
      "RangeIndex: 475236 entries, 0 to 475235\n",
      "Data columns (total 39 columns):\n",
      " #   Column     Non-Null Count   Dtype  \n",
      "---  ------     --------------   -----  \n",
      " 0   상가업소번호     475236 non-null  object \n",
      " 1   상호명        475236 non-null  object \n",
      " 2   지점명        9520 non-null    object \n",
      " 3   상권업종대분류코드  475236 non-null  object \n",
      " 4   상권업종대분류명   475236 non-null  object \n",
      " 5   상권업종중분류코드  475236 non-null  object \n",
      " 6   상권업종중분류명   475236 non-null  object \n",
      " 7   상권업종소분류코드  475236 non-null  object \n",
      " 8   상권업종소분류명   475236 non-null  object \n",
      " 9   표준산업분류코드   475145 non-null  object \n",
      " 10  표준산업분류명    475145 non-null  object \n",
      " 11  시도코드       475236 non-null  int64  \n",
      " 12  시도명        475236 non-null  object \n",
      " 13  시군구코드      475236 non-null  int64  \n",
      " 14  시군구명       475236 non-null  object \n",
      " 15  행정동코드      475236 non-null  int64  \n",
      " 16  행정동명       475236 non-null  object \n",
      " 17  법정동코드      475236 non-null  int64  \n",
      " 18  법정동명       475236 non-null  object \n",
      " 19  지번코드       475236 non-null  int64  \n",
      " 20  대지구분코드     475236 non-null  int64  \n",
      " 21  대지구분명      475236 non-null  object \n",
      " 22  지번본번지      475236 non-null  int64  \n",
      " 23  지번부번지      397285 non-null  float64\n",
      " 24  지번주소       475236 non-null  object \n",
      " 25  도로명코드      475236 non-null  int64  \n",
      " 26  도로명        475236 non-null  object \n",
      " 27  건물본번지      475235 non-null  float64\n",
      " 28  건물부번지      62551 non-null   float64\n",
      " 29  건물관리번호     475206 non-null  object \n",
      " 30  건물명        226031 non-null  object \n",
      " 31  도로명주소      475236 non-null  object \n",
      " 32  구우편번호      475236 non-null  int64  \n",
      " 33  신우편번호      475236 non-null  int64  \n",
      " 34  동정보        0 non-null       float64\n",
      " 35  층정보        329118 non-null  object \n",
      " 36  호정보        0 non-null       float64\n",
      " 37  경도         475236 non-null  float64\n",
      " 38  위도         475236 non-null  float64\n",
      "dtypes: float64(7), int64(10), object(22)\n",
      "memory usage: 141.4+ MB\n"
     ]
    }
   ],
   "source": [
    "# original data\n",
    "data_path = '/Users/okchang/mainbiz/project/p1_final/data/original_data.csv'\n",
    "df = pd.read_csv(data_path)\n",
    "df.info()"
   ]
  },
  {
   "cell_type": "code",
   "execution_count": 6,
   "metadata": {},
   "outputs": [
    {
     "name": "stdout",
     "output_type": "stream",
     "text": [
      "39\n"
     ]
    },
    {
     "data": {
      "text/plain": [
       "Index(['상가업소번호', '상호명', '지점명', '상권업종대분류코드', '상권업종대분류명', '상권업종중분류코드',\n",
       "       '상권업종중분류명', '상권업종소분류코드', '상권업종소분류명', '표준산업분류코드', '표준산업분류명', '시도코드',\n",
       "       '시도명', '시군구코드', '시군구명', '행정동코드', '행정동명', '법정동코드', '법정동명', '지번코드',\n",
       "       '대지구분코드', '대지구분명', '지번본번지', '지번부번지', '지번주소', '도로명코드', '도로명', '건물본번지',\n",
       "       '건물부번지', '건물관리번호', '건물명', '도로명주소', '구우편번호', '신우편번호', '동정보', '층정보',\n",
       "       '호정보', '경도', '위도'],\n",
       "      dtype='object')"
      ]
     },
     "execution_count": 6,
     "metadata": {},
     "output_type": "execute_result"
    }
   ],
   "source": [
    "# columns 확인\n",
    "print(len(df.columns))\n",
    "df.columns"
   ]
  },
  {
   "cell_type": "code",
   "execution_count": 8,
   "metadata": {},
   "outputs": [
    {
     "data": {
      "text/plain": [
       "상가업소번호            MA010120220805446886\n",
       "상호명                               맥스수학\n",
       "지점명                                NaN\n",
       "상권업종대분류코드                           P1\n",
       "상권업종대분류명                            교육\n",
       "상권업종중분류코드                         P105\n",
       "상권업종중분류명                         일반 교육\n",
       "상권업종소분류코드                       P10501\n",
       "상권업종소분류명                       입시·교과학원\n",
       "표준산업분류코드                        P85501\n",
       "표준산업분류명                        일반 교과학원\n",
       "시도코드                                11\n",
       "시도명                              서울특별시\n",
       "시군구코드                            11740\n",
       "시군구명                               강동구\n",
       "행정동코드                         11740540\n",
       "행정동명                              명일2동\n",
       "법정동코드                       1174010100\n",
       "법정동명                               명일동\n",
       "지번코드               1174010100100480012\n",
       "대지구분코드                               1\n",
       "대지구분명                               대지\n",
       "지번본번지                               48\n",
       "지번부번지                             12.0\n",
       "지번주소               서울특별시 강동구 명일동 48-12\n",
       "도로명코드                     117404172095\n",
       "도로명                   서울특별시 강동구 동남로71길\n",
       "건물본번지                             38.0\n",
       "건물부번지                              NaN\n",
       "건물관리번호       1174010100100480012018781\n",
       "건물명                               동양타워\n",
       "도로명주소              서울특별시 강동구 동남로71길 38\n",
       "구우편번호                           134825\n",
       "신우편번호                             5269\n",
       "동정보                                NaN\n",
       "층정보                                  2\n",
       "호정보                                NaN\n",
       "경도                          127.154052\n",
       "위도                           37.552032\n",
       "Name: 500, dtype: object"
      ]
     },
     "execution_count": 8,
     "metadata": {},
     "output_type": "execute_result"
    }
   ],
   "source": [
    "# data 확인\n",
    "df.iloc[500]"
   ]
  },
  {
   "cell_type": "markdown",
   "metadata": {},
   "source": [
    "## 데이터 정리\n",
    "\n",
    "1. 불필요한 컬럼 제거: (475236, 39) -> (475145, 10)\n",
    "    - 상호명\n",
    "    - 지점명\n",
    "    - 상권업종소분류명: 업종 선택을 위함 -> 표쥰산업분류명로만 부족 -> 카페\n",
    "    - 표쥰산업분류명: 업종 선택을 위함 -> 커피 전문점 (+ 결측치 있는 행 제거)\n",
    "    - 행정동 \n",
    "    - 법정동\n",
    "    - 지번주소\n",
    "    - 도로명주소\n",
    "    - 경도\n",
    "    - 위도 \n",
    "2. 업종 선택(카페): (475145, 10) -> (21425, 10)\n",
    "    - 상권업종소분류명 -> 카페\n",
    "    - 표쥰산업분류명 -> 커피 전문점"
   ]
  },
  {
   "cell_type": "markdown",
   "metadata": {},
   "source": [
    "### 1) 불필요한 컬럼 제거"
   ]
  },
  {
   "cell_type": "code",
   "execution_count": 9,
   "metadata": {},
   "outputs": [
    {
     "name": "stdout",
     "output_type": "stream",
     "text": [
      "Index(['상호명', '지점명', '상권업종소분류명', '표준산업분류명', '행정동명', '법정동명', '지번주소', '도로명주소',\n",
      "       '경도', '위도'],\n",
      "      dtype='object')\n",
      "<class 'pandas.core.frame.DataFrame'>\n",
      "RangeIndex: 475236 entries, 0 to 475235\n",
      "Data columns (total 10 columns):\n",
      " #   Column    Non-Null Count   Dtype  \n",
      "---  ------    --------------   -----  \n",
      " 0   상호명       475236 non-null  object \n",
      " 1   지점명       9520 non-null    object \n",
      " 2   상권업종소분류명  475236 non-null  object \n",
      " 3   표준산업분류명   475145 non-null  object \n",
      " 4   행정동명      475236 non-null  object \n",
      " 5   법정동명      475236 non-null  object \n",
      " 6   지번주소      475236 non-null  object \n",
      " 7   도로명주소     475236 non-null  object \n",
      " 8   경도        475236 non-null  float64\n",
      " 9   위도        475236 non-null  float64\n",
      "dtypes: float64(2), object(8)\n",
      "memory usage: 36.3+ MB\n"
     ]
    }
   ],
   "source": [
    "columns_to_keep = ['상호명', '지점명', '상권업종소분류명', '표준산업분류명', '행정동명', '법정동명', '지번주소', '도로명주소', '경도', '위도']\n",
    "\n",
    "df_filtered = df[columns_to_keep]\n",
    "print(df_filtered.columns)\n",
    "df_filtered.info()"
   ]
  },
  {
   "cell_type": "code",
   "execution_count": 10,
   "metadata": {},
   "outputs": [
    {
     "name": "stdout",
     "output_type": "stream",
     "text": [
      "(475236, 39) (475236, 10)\n"
     ]
    }
   ],
   "source": [
    "print(df.shape, df_filtered.shape)"
   ]
  },
  {
   "cell_type": "markdown",
   "metadata": {},
   "source": [
    "### 2) 업종 필터링\n",
    "- 표준산업분류명 == 커피 전문점 or 상권업종소분류명 == 카페"
   ]
  },
  {
   "cell_type": "code",
   "execution_count": 14,
   "metadata": {},
   "outputs": [
    {
     "name": "stdout",
     "output_type": "stream",
     "text": [
      "<class 'pandas.core.frame.DataFrame'>\n",
      "Index: 21436 entries, 10 to 475225\n",
      "Data columns (total 10 columns):\n",
      " #   Column    Non-Null Count  Dtype  \n",
      "---  ------    --------------  -----  \n",
      " 0   상호명       21436 non-null  object \n",
      " 1   지점명       1252 non-null   object \n",
      " 2   상권업종소분류명  21436 non-null  object \n",
      " 3   표준산업분류명   21425 non-null  object \n",
      " 4   행정동명      21436 non-null  object \n",
      " 5   법정동명      21436 non-null  object \n",
      " 6   지번주소      21436 non-null  object \n",
      " 7   도로명주소     21436 non-null  object \n",
      " 8   경도        21436 non-null  float64\n",
      " 9   위도        21436 non-null  float64\n",
      "dtypes: float64(2), object(8)\n",
      "memory usage: 1.8+ MB\n"
     ]
    }
   ],
   "source": [
    "cafe_df = df_filtered[(df_filtered['표준산업분류명'] == '커피 전문점') | (df_filtered['상권업종소분류명'] == '카페')]\n",
    "cafe_df.info()"
   ]
  },
  {
   "cell_type": "markdown",
   "metadata": {},
   "source": [
    "### 3) 결측치 제거\n",
    "- 업종정보에 결측치있는 데이터 제거"
   ]
  },
  {
   "cell_type": "code",
   "execution_count": 24,
   "metadata": {},
   "outputs": [
    {
     "name": "stdout",
     "output_type": "stream",
     "text": [
      "['지점명', '표준산업분류명']\n",
      "(11, 10)\n",
      "201228        도아코퍼레이션\n",
      "409990          다방구밴드\n",
      "420233       한국커피브레이크\n",
      "420924      할리스커피주협의회\n",
      "422972       대한수제커피협회\n",
      "426528       투썸플레이스역삼\n",
      "439160      아시아국제커피협회\n",
      "442708         통합커피학회\n",
      "461190    매머드커피랩점주연합회\n",
      "463588     컴포즈커피제1호조합\n",
      "464706       한국커피검정협회\n",
      "Name: 상호명, dtype: object\n"
     ]
    }
   ],
   "source": [
    "# 결측치 확인\n",
    "missing_cols = cafe_df.columns[cafe_df.isnull().any()].tolist()\n",
    "print(missing_cols)\n",
    "print(cafe_df[cafe_df['표준산업분류명'].isnull()].shape)\n",
    "print(cafe_df[cafe_df['표준산업분류명'].isnull()]['상호명']) \n",
    "# 보면 카페 아님 -> 제거"
   ]
  },
  {
   "cell_type": "code",
   "execution_count": 25,
   "metadata": {},
   "outputs": [
    {
     "name": "stdout",
     "output_type": "stream",
     "text": [
      "(0, 10)\n"
     ]
    },
    {
     "name": "stderr",
     "output_type": "stream",
     "text": [
      "/var/folders/hy/0q0xn9_j1m3ddxnt492l8q240000gn/T/ipykernel_35584/3169492377.py:1: SettingWithCopyWarning: \n",
      "A value is trying to be set on a copy of a slice from a DataFrame\n",
      "\n",
      "See the caveats in the documentation: https://pandas.pydata.org/pandas-docs/stable/user_guide/indexing.html#returning-a-view-versus-a-copy\n",
      "  cafe_df.dropna(subset=['표준산업분류명'], inplace=True)\n"
     ]
    }
   ],
   "source": [
    "cafe_df.dropna(subset=['표준산업분류명'], inplace=True)\n",
    "print(cafe_df[cafe_df['표준산업분류명'].isnull()].shape) # 확인: 제거됨"
   ]
  },
  {
   "cell_type": "code",
   "execution_count": 27,
   "metadata": {},
   "outputs": [
    {
     "name": "stdout",
     "output_type": "stream",
     "text": [
      "<class 'pandas.core.frame.DataFrame'>\n",
      "Index: 21425 entries, 10 to 475225\n",
      "Data columns (total 10 columns):\n",
      " #   Column    Non-Null Count  Dtype  \n",
      "---  ------    --------------  -----  \n",
      " 0   상호명       21425 non-null  object \n",
      " 1   지점명       1250 non-null   object \n",
      " 2   상권업종소분류명  21425 non-null  object \n",
      " 3   표준산업분류명   21425 non-null  object \n",
      " 4   행정동명      21425 non-null  object \n",
      " 5   법정동명      21425 non-null  object \n",
      " 6   지번주소      21425 non-null  object \n",
      " 7   도로명주소     21425 non-null  object \n",
      " 8   경도        21425 non-null  float64\n",
      " 9   위도        21425 non-null  float64\n",
      "dtypes: float64(2), object(8)\n",
      "memory usage: 1.8+ MB\n"
     ]
    }
   ],
   "source": [
    "cafe_df.info()"
   ]
  },
  {
   "cell_type": "code",
   "execution_count": 28,
   "metadata": {},
   "outputs": [],
   "source": [
    "# 정리된 데이터 저장\n",
    "save_path = '/Users/okchang/mainbiz/project/p1_final/data'\n",
    "filename = 'cafe_seoul.csv'\n",
    "cafe_df.to_csv(f'{save_path}/{filename}', index=False, encoding='utf-8-sig')"
   ]
  },
  {
   "cell_type": "code",
   "execution_count": 29,
   "metadata": {},
   "outputs": [
    {
     "name": "stdout",
     "output_type": "stream",
     "text": [
      "<class 'pandas.core.frame.DataFrame'>\n",
      "RangeIndex: 21425 entries, 0 to 21424\n",
      "Data columns (total 10 columns):\n",
      " #   Column    Non-Null Count  Dtype  \n",
      "---  ------    --------------  -----  \n",
      " 0   상호명       21425 non-null  object \n",
      " 1   지점명       1250 non-null   object \n",
      " 2   상권업종소분류명  21425 non-null  object \n",
      " 3   표준산업분류명   21425 non-null  object \n",
      " 4   행정동명      21425 non-null  object \n",
      " 5   법정동명      21425 non-null  object \n",
      " 6   지번주소      21425 non-null  object \n",
      " 7   도로명주소     21425 non-null  object \n",
      " 8   경도        21425 non-null  float64\n",
      " 9   위도        21425 non-null  float64\n",
      "dtypes: float64(2), object(8)\n",
      "memory usage: 1.6+ MB\n"
     ]
    }
   ],
   "source": [
    "# 확인\n",
    "saved_csv = pd.read_csv(f'{save_path}/{filename}')\n",
    "saved_csv.info()"
   ]
  },
  {
   "cell_type": "markdown",
   "metadata": {},
   "source": [
    "## 정리\n",
    "\n",
    "- 데이터 크기: 259.2MB(475236, 39) -> 4MB(21425, 10)\n",
    "\n",
    "- 서울 외 다른 지역 정보는 사이트에서 다운받아오면 됨\n",
    "\n",
    "- 카페가 아닌 다른 업종을 고르려면 이 노트북에서 업종컬럼 필터링\n",
    "\n"
   ]
  },
  {
   "cell_type": "markdown",
   "metadata": {},
   "source": []
  }
 ],
 "metadata": {
  "kernelspec": {
   "display_name": "Python 3 (ipykernel)",
   "language": "python",
   "name": "python3"
  },
  "language_info": {
   "codemirror_mode": {
    "name": "ipython",
    "version": 3
   },
   "file_extension": ".py",
   "mimetype": "text/x-python",
   "name": "python",
   "nbconvert_exporter": "python",
   "pygments_lexer": "ipython3",
   "version": "3.9.16"
  }
 },
 "nbformat": 4,
 "nbformat_minor": 2
}
